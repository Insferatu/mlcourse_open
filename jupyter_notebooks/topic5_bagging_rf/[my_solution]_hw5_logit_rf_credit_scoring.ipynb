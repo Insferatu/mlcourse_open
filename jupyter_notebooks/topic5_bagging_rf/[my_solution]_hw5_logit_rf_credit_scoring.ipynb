{
 "cells": [
  {
   "cell_type": "markdown",
   "metadata": {},
   "source": [
    "<center>\n",
    "<img src=\"../../img/ods_stickers.jpg\">\n",
    "## Открытый курс по машинному обучению\n",
    "</center>\n",
    "Авторы материала: Data Science интерн Ciklum, студент магистерской программы CSDS UCU Виталий Радченко, аналитик Вымпелком Саян Омаров"
   ]
  },
  {
   "cell_type": "markdown",
   "metadata": {},
   "source": [
    "# <center> Домашнее задание № 5\n",
    "## <center> Логистическая регрессия и случайный лес в задаче кредитного скоринга"
   ]
  },
  {
   "cell_type": "markdown",
   "metadata": {},
   "source": [
    "#### Нашей главной задачей будет построение модели для задачи кредитного скоринга.\n",
    "\n",
    "Но для разминки решите первое задание :)\n",
    "\n",
    "**Задание 1** В зале суда есть 5 присяжных, каждый из них по отдельности с вероятностью 70% может правильно определить виновен подсудимый или нет. С какой вероятностью они все вместе вынесут правильный вердикт, если решение принимается большинством голосов?\n",
    "- 70.00%\n",
    "- 83.20%\n",
    "- **83.70%**\n",
    "- 87.50%\n",
    "\n",
    "Теперь перейдем непосредственно к машинному обучению.\n",
    "\n",
    "#### Данные представлены следующим образом:\n",
    "\n",
    "##### Прогнозируемая  переменная\n",
    "* SeriousDlqin2yrs\t     ----Человек не выплатил данный кредит в течение 90 дней; возможные значения  1/0 \n",
    "\n",
    "##### Независимые признаки\n",
    "* age\t                         ---- Возраст заёмщика кредитных средств; тип - integer\n",
    "* NumberOfTime30-59DaysPastDueNotWorse\t----Количество раз, когда человек имел просрочку выплаты других кредитов более 30-59 дней, но не больше в течение последних двух лет; тип -\tinteger\n",
    "* DebtRatio ----\tЕжемесячный отчисления на задолжености(кредиты,алименты и т.д.)  / совокупный месячный доход \tpercentage; тип -\treal\n",
    "* MonthlyIncome\t----Месячный доход в долларах; тип -\treal\n",
    "* NumberOfTimes90DaysLate ----Количество раз, когда человек имел просрочку выплаты других кредитов более 90 дней; тип -\tinteger\n",
    "* NumberOfTime60-89DaysPastDueNotWorse----\tКоличество раз, когда человек имел просрочку выплаты других кредитов более 60-89 дней, но не больше в течение последних двух лет; ; тип -\tinteger\n",
    "* NumberOfDependents ----Число человек в семье кредитозаёмщика; тип -\tinteger"
   ]
  },
  {
   "cell_type": "code",
   "execution_count": 1,
   "metadata": {
    "collapsed": false
   },
   "outputs": [
    {
     "data": {
      "text/plain": [
       "83.691999999999993"
      ]
     },
     "execution_count": 1,
     "metadata": {},
     "output_type": "execute_result"
    }
   ],
   "source": [
    "from scipy.misc import comb\n",
    "\n",
    "N = 5\n",
    "p = 0.7\n",
    "voted_correctly = [3, 4, 5]\n",
    "100 * sum([(comb(N, i) * (p ** i) * ((1 - p) ** (N - i)) ) for i in voted_correctly])"
   ]
  },
  {
   "cell_type": "code",
   "execution_count": 2,
   "metadata": {
    "collapsed": false
   },
   "outputs": [],
   "source": [
    "%matplotlib inline\n",
    "import matplotlib.pyplot as plt\n",
    "import seaborn as sns\n",
    "# отключим предупреждения Anaconda\n",
    "import warnings\n",
    "warnings.filterwarnings('ignore')\n",
    "import pandas as pd\n",
    "import numpy as np"
   ]
  },
  {
   "cell_type": "code",
   "execution_count": 3,
   "metadata": {
    "collapsed": true
   },
   "outputs": [],
   "source": [
    "## Сделаем функцию, которая будет заменять NaN значения на медиану в каждом столбце таблицы \n",
    "def delete_nan(table):\n",
    "    for col in table.columns:\n",
    "        table[col]= table[col].fillna(table[col].median())\n",
    "    return table"
   ]
  },
  {
   "cell_type": "code",
   "execution_count": 4,
   "metadata": {
    "collapsed": false
   },
   "outputs": [
    {
     "data": {
      "text/html": [
       "<div>\n",
       "<table border=\"1\" class=\"dataframe\">\n",
       "  <thead>\n",
       "    <tr style=\"text-align: right;\">\n",
       "      <th></th>\n",
       "      <th>SeriousDlqin2yrs</th>\n",
       "      <th>age</th>\n",
       "      <th>NumberOfTime30-59DaysPastDueNotWorse</th>\n",
       "      <th>DebtRatio</th>\n",
       "      <th>NumberOfTimes90DaysLate</th>\n",
       "      <th>NumberOfTime60-89DaysPastDueNotWorse</th>\n",
       "      <th>MonthlyIncome</th>\n",
       "      <th>NumberOfDependents</th>\n",
       "    </tr>\n",
       "  </thead>\n",
       "  <tbody>\n",
       "    <tr>\n",
       "      <th>0</th>\n",
       "      <td>0</td>\n",
       "      <td>64</td>\n",
       "      <td>0</td>\n",
       "      <td>0.249908</td>\n",
       "      <td>0</td>\n",
       "      <td>0</td>\n",
       "      <td>8158.0</td>\n",
       "      <td>0.0</td>\n",
       "    </tr>\n",
       "    <tr>\n",
       "      <th>1</th>\n",
       "      <td>0</td>\n",
       "      <td>58</td>\n",
       "      <td>0</td>\n",
       "      <td>3870.000000</td>\n",
       "      <td>0</td>\n",
       "      <td>0</td>\n",
       "      <td>NaN</td>\n",
       "      <td>0.0</td>\n",
       "    </tr>\n",
       "    <tr>\n",
       "      <th>2</th>\n",
       "      <td>0</td>\n",
       "      <td>41</td>\n",
       "      <td>0</td>\n",
       "      <td>0.456127</td>\n",
       "      <td>0</td>\n",
       "      <td>0</td>\n",
       "      <td>6666.0</td>\n",
       "      <td>0.0</td>\n",
       "    </tr>\n",
       "    <tr>\n",
       "      <th>3</th>\n",
       "      <td>0</td>\n",
       "      <td>43</td>\n",
       "      <td>0</td>\n",
       "      <td>0.000190</td>\n",
       "      <td>0</td>\n",
       "      <td>0</td>\n",
       "      <td>10500.0</td>\n",
       "      <td>2.0</td>\n",
       "    </tr>\n",
       "    <tr>\n",
       "      <th>4</th>\n",
       "      <td>1</td>\n",
       "      <td>49</td>\n",
       "      <td>0</td>\n",
       "      <td>0.271820</td>\n",
       "      <td>0</td>\n",
       "      <td>0</td>\n",
       "      <td>400.0</td>\n",
       "      <td>0.0</td>\n",
       "    </tr>\n",
       "  </tbody>\n",
       "</table>\n",
       "</div>"
      ],
      "text/plain": [
       "   SeriousDlqin2yrs  age  NumberOfTime30-59DaysPastDueNotWorse    DebtRatio  \\\n",
       "0                 0   64                                     0     0.249908   \n",
       "1                 0   58                                     0  3870.000000   \n",
       "2                 0   41                                     0     0.456127   \n",
       "3                 0   43                                     0     0.000190   \n",
       "4                 1   49                                     0     0.271820   \n",
       "\n",
       "   NumberOfTimes90DaysLate  NumberOfTime60-89DaysPastDueNotWorse  \\\n",
       "0                        0                                     0   \n",
       "1                        0                                     0   \n",
       "2                        0                                     0   \n",
       "3                        0                                     0   \n",
       "4                        0                                     0   \n",
       "\n",
       "   MonthlyIncome  NumberOfDependents  \n",
       "0         8158.0                 0.0  \n",
       "1            NaN                 0.0  \n",
       "2         6666.0                 0.0  \n",
       "3        10500.0                 2.0  \n",
       "4          400.0                 0.0  "
      ]
     },
     "execution_count": 4,
     "metadata": {},
     "output_type": "execute_result"
    }
   ],
   "source": [
    "## Считываем данные\n",
    "data = pd.read_csv('../../data/credit_scoring_sample.csv', sep =';')\n",
    "data.head()"
   ]
  },
  {
   "cell_type": "code",
   "execution_count": 5,
   "metadata": {
    "collapsed": false
   },
   "outputs": [
    {
     "data": {
      "text/plain": [
       "SeriousDlqin2yrs                          int64\n",
       "age                                       int64\n",
       "NumberOfTime30-59DaysPastDueNotWorse      int64\n",
       "DebtRatio                               float64\n",
       "NumberOfTimes90DaysLate                   int64\n",
       "NumberOfTime60-89DaysPastDueNotWorse      int64\n",
       "MonthlyIncome                           float64\n",
       "NumberOfDependents                      float64\n",
       "dtype: object"
      ]
     },
     "execution_count": 5,
     "metadata": {},
     "output_type": "execute_result"
    }
   ],
   "source": [
    "## Рассмотрим типы считанных данных\n",
    "data.dtypes"
   ]
  },
  {
   "cell_type": "code",
   "execution_count": 6,
   "metadata": {
    "collapsed": false
   },
   "outputs": [
    {
     "name": "stdout",
     "output_type": "stream",
     "text": [
      "Distribution of target\n"
     ]
    },
    {
     "data": {
      "text/plain": [
       "0    0.777511\n",
       "1    0.222489\n",
       "Name: SeriousDlqin2yrs, dtype: float64"
      ]
     },
     "execution_count": 6,
     "metadata": {},
     "output_type": "execute_result"
    },
    {
     "data": {
      "image/png": "[encoded data removed]",
      "text/plain": [
       "<matplotlib.figure.Figure at 0x10849c080>"
      ]
     },
     "metadata": {},
     "output_type": "display_data"
    }
   ],
   "source": [
    "## Посмотрим на распределение классов в зависимой переменной\n",
    "\n",
    "ax = data['SeriousDlqin2yrs'].hist(orientation='horizontal', color='red')\n",
    "ax.set_xlabel(\"number_of_observations\")\n",
    "ax.set_ylabel(\"unique_value\")\n",
    "ax.set_title(\"Target distribution\")\n",
    "\n",
    "print('Distribution of target')\n",
    "data['SeriousDlqin2yrs'].value_counts()/data.shape[0]"
   ]
  },
  {
   "cell_type": "code",
   "execution_count": 20,
   "metadata": {
    "collapsed": false
   },
   "outputs": [
    {
     "data": {
      "text/plain": [
       "['age',\n",
       " 'NumberOfTime30-59DaysPastDueNotWorse',\n",
       " 'DebtRatio',\n",
       " 'NumberOfTimes90DaysLate',\n",
       " 'NumberOfTime60-89DaysPastDueNotWorse',\n",
       " 'MonthlyIncome',\n",
       " 'NumberOfDependents']"
      ]
     },
     "execution_count": 20,
     "metadata": {},
     "output_type": "execute_result"
    }
   ],
   "source": [
    "## Выберем названия всех признаков из таблицы, кроме прогнозируемого\n",
    "\n",
    "independent_columns_names = data.columns.values\n",
    "independent_columns_names = [x for x in data if x != 'SeriousDlqin2yrs']\n",
    "independent_columns_names"
   ]
  },
  {
   "cell_type": "code",
   "execution_count": 8,
   "metadata": {
    "collapsed": true
   },
   "outputs": [],
   "source": [
    "## Применяем функцию, заменяющую все NaN значения на медианное значение соответствующего столбца\n",
    "table = delete_nan(data)"
   ]
  },
  {
   "cell_type": "code",
   "execution_count": 9,
   "metadata": {
    "collapsed": false
   },
   "outputs": [],
   "source": [
    "## Разделяем таргет и признаки \n",
    "X = table[independent_columns_names]\n",
    "y = table['SeriousDlqin2yrs']"
   ]
  },
  {
   "cell_type": "code",
   "execution_count": 21,
   "metadata": {
    "collapsed": false
   },
   "outputs": [
    {
     "data": {
      "text/plain": [
       "Index(['age', 'NumberOfTime30-59DaysPastDueNotWorse', 'DebtRatio',\n",
       "       'NumberOfTimes90DaysLate', 'NumberOfTime60-89DaysPastDueNotWorse',\n",
       "       'MonthlyIncome', 'NumberOfDependents'],\n",
       "      dtype='object')"
      ]
     },
     "execution_count": 21,
     "metadata": {},
     "output_type": "execute_result"
    }
   ],
   "source": [
    "X.columns"
   ]
  },
  {
   "cell_type": "markdown",
   "metadata": {},
   "source": [
    "# Бутстрэп"
   ]
  },
  {
   "cell_type": "markdown",
   "metadata": {},
   "source": [
    "**Задание 2.** Сделайте интервальную оценку среднего возраста (age) для клиентов, которые просрочили выплату кредита, с 90% \"уверенностью\". (используйте пример из статьи. Поставьте np.random.seed(0) как это сделано в статье)"
   ]
  },
  {
   "cell_type": "code",
   "execution_count": 10,
   "metadata": {
    "collapsed": false
   },
   "outputs": [
    {
     "data": {
      "image/png": "[encoded data removed]",
      "text/plain": [
       "<matplotlib.figure.Figure at 0x108816b00>"
      ]
     },
     "metadata": {},
     "output_type": "display_data"
    }
   ],
   "source": [
    "fig = sns.kdeplot(data[data['SeriousDlqin2yrs'] == 1]['age'], label='Overdue')\n",
    "fig = sns.kdeplot(data[data['SeriousDlqin2yrs'] == 0]['age'], label='Paid')\n",
    "fig.set(xlabel='Возраст', ylabel='Плотность')\n",
    "plt.show()"
   ]
  },
  {
   "cell_type": "code",
   "execution_count": 11,
   "metadata": {
    "collapsed": false
   },
   "outputs": [
    {
     "name": "stdout",
     "output_type": "stream",
     "text": [
      "Overdue mean interval:  [ 45.71379414  46.12700479]\n",
      "Paid mean interval:  [ 52.59470132  52.85480064]\n"
     ]
    }
   ],
   "source": [
    "def get_bootstrap_samples(data, n_samples):\n",
    "    # функция для генерации подвыборок с помощью бутстрэпа\n",
    "    indices = np.random.randint(0, len(data), (n_samples, len(data)))\n",
    "    samples = data[indices]\n",
    "    return samples\n",
    "def stat_intervals(stat, alpha):\n",
    "    # функция для интервальной оценки\n",
    "    boundaries = np.percentile(stat, [100 * alpha / 2., 100 * (1 - alpha / 2.)])\n",
    "    return boundaries\n",
    "\n",
    "overdue = data[data['SeriousDlqin2yrs'] == 1]['age'].values\n",
    "paid = data[data['SeriousDlqin2yrs'] == 0]['age'].values\n",
    "\n",
    "np.random.seed(0)\n",
    "\n",
    "overdue_mean_scores = [np.mean(sample) \n",
    "                       for sample in get_bootstrap_samples(overdue, 1000)]\n",
    "paid_mean_scores = [np.mean(sample) \n",
    "                       for sample in get_bootstrap_samples(paid, 1000)]\n",
    "\n",
    "print(\"Overdue mean interval: \",  stat_intervals(overdue_mean_scores, 0.1))\n",
    "print(\"Paid mean interval: \",  stat_intervals(paid_mean_scores, 0.1))"
   ]
  },
  {
   "cell_type": "markdown",
   "metadata": {},
   "source": [
    "## Подбор параметров для модели логистической регрессии "
   ]
  },
  {
   "cell_type": "markdown",
   "metadata": {},
   "source": [
    "#### Одной из важных метрик качества модели является значение площади под ROC-кривой. Значение ROC-AUC лежит от 0  до 1.   Чем ближе начение метрики ROC-AUC к 1, тем качественнее происходит классификация моделью."
   ]
  },
  {
   "cell_type": "code",
   "execution_count": 23,
   "metadata": {
    "collapsed": false
   },
   "outputs": [],
   "source": [
    "from sklearn.linear_model import LogisticRegression\n",
    "from sklearn.model_selection import GridSearchCV, StratifiedKFold\n",
    "from sklearn.metrics import roc_auc_score, make_scorer\n",
    "from sklearn.preprocessing import StandardScaler\n",
    "import math\n",
    "\n",
    "## Используем модуль LogisticRegression для построения логистической регрессии.\n",
    "## Из-за несбалансированности классов  в таргете добавляем параметр балансировки.\n",
    "## Используем также параметр random_state=5 для воспроизводимости результатов\n",
    "lr = LogisticRegression(random_state=5, class_weight= 'balanced')\n",
    "\n",
    "## Попробуем подобрать лучший коэффициент регуляризации (коэффициент C в логистической регрессии) для модели лог.регрессии.\n",
    "## Этот параметр необходим для того, чтобы подобрать оптимальную модель, которая не будет переобучена, с одной стороны, \n",
    "## и будет хорошо предсказывать значения таргета, с другой.\n",
    "## Остальные параметры оставляем по умолчанию.\n",
    "parameters = {'C': (0.0001, 0.001, 0.01, 0.1, 1, 10)}\n",
    "\n",
    "## Для того, чтобы подобрать коэффициент регуляризации, попробуем для каждого его возможного значения посмотреть \n",
    "## значения roc-auc на стрэтифайд кросс-валидации из 5 фолдов с помощью функции StratifiedKFold\n",
    "\n",
    "skf = StratifiedKFold(n_splits=5, shuffle=True, random_state=5)"
   ]
  },
  {
   "cell_type": "markdown",
   "metadata": {},
   "source": [
    "**Задание 3.**\n",
    "Сделайте GridSearch с метрикой \"roc-auc\" по параметру C. Какое оптимальное значение параметра С?"
   ]
  },
  {
   "cell_type": "code",
   "execution_count": 26,
   "metadata": {
    "collapsed": false
   },
   "outputs": [
    {
     "name": "stdout",
     "output_type": "stream",
     "text": [
      "Fitting 5 folds for each of 6 candidates, totalling 30 fits\n"
     ]
    },
    {
     "name": "stderr",
     "output_type": "stream",
     "text": [
      "[Parallel(n_jobs=-1)]: Done  30 out of  30 | elapsed:    4.8s finished\n"
     ]
    },
    {
     "data": {
      "text/plain": [
       "(LogisticRegression(C=0.001, class_weight='balanced', dual=False,\n",
       "           fit_intercept=True, intercept_scaling=1, max_iter=100,\n",
       "           multi_class='ovr', n_jobs=1, penalty='l2', random_state=5,\n",
       "           solver='liblinear', tol=0.0001, verbose=0, warm_start=False),\n",
       " 0.79602037566388317,\n",
       " {'mean_fit_time': array([ 0.39687877,  0.52827177,  0.67807136,  0.55305996,  0.52850428,\n",
       "          0.43327308]),\n",
       "  'mean_score_time': array([ 0.01056809,  0.01479158,  0.01031418,  0.00568542,  0.00713921,\n",
       "          0.00551882]),\n",
       "  'mean_test_score': array([ 0.79090938,  0.79602038,  0.79107902,  0.78895622,  0.7887109 ,\n",
       "          0.78855217]),\n",
       "  'mean_train_score': array([ 0.79110795,  0.79621984,  0.79127052,  0.78914577,  0.78888268,\n",
       "          0.78876252]),\n",
       "  'param_C': masked_array(data = [0.0001 0.001 0.01 0.1 1 10],\n",
       "               mask = [False False False False False False],\n",
       "         fill_value = ?),\n",
       "  'params': ({'C': 0.0001},\n",
       "   {'C': 0.001},\n",
       "   {'C': 0.01},\n",
       "   {'C': 0.1},\n",
       "   {'C': 1},\n",
       "   {'C': 10}),\n",
       "  'rank_test_score': array([3, 1, 2, 4, 5, 6], dtype=int32),\n",
       "  'split0_test_score': array([ 0.79006524,  0.79356999,  0.78806353,  0.78646815,  0.78513724,\n",
       "          0.78559228]),\n",
       "  'split0_train_score': array([ 0.79255473,  0.79725003,  0.79163639,  0.78985174,  0.78854255,\n",
       "          0.78916492]),\n",
       "  'split1_test_score': array([ 0.78532475,  0.7910903 ,  0.78809344,  0.78614683,  0.78563021,\n",
       "          0.78561932]),\n",
       "  'split1_train_score': array([ 0.79055839,  0.79502744,  0.78933305,  0.78677742,  0.78620315,\n",
       "          0.78629392]),\n",
       "  'split2_test_score': array([ 0.79357401,  0.79871109,  0.79316708,  0.79108302,  0.79077161,\n",
       "          0.79073908]),\n",
       "  'split2_train_score': array([ 0.7917876 ,  0.79673009,  0.79239272,  0.7906419 ,  0.79036026,\n",
       "          0.79033057]),\n",
       "  'split3_test_score': array([ 0.78955882,  0.79503706,  0.78867577,  0.78555698,  0.78674909,\n",
       "          0.78622478]),\n",
       "  'split3_train_score': array([ 0.78990877,  0.79597909,  0.79148907,  0.78897364,  0.79010501,\n",
       "          0.78952112]),\n",
       "  'split4_test_score': array([ 0.79602489,  0.80169453,  0.7973963 ,  0.79552699,  0.79526747,\n",
       "          0.79458635]),\n",
       "  'split4_train_score': array([ 0.79073026,  0.79611257,  0.79150136,  0.78948418,  0.78920243,\n",
       "          0.78850208]),\n",
       "  'std_fit_time': array([ 0.04116636,  0.07463076,  0.0668571 ,  0.15984216,  0.06291264,\n",
       "          0.08934527]),\n",
       "  'std_score_time': array([ 0.00176637,  0.01186503,  0.00297203,  0.00080042,  0.00128633,\n",
       "          0.00137643]),\n",
       "  'std_test_score': array([ 0.0036604 ,  0.00376064,  0.00368914,  0.00382972,  0.00383   ,\n",
       "          0.00357692]),\n",
       "  'std_train_score': array([ 0.0009421 ,  0.00075006,  0.0010245 ,  0.00130308,  0.0014883 ,\n",
       "          0.00136807])})"
      ]
     },
     "execution_count": 26,
     "metadata": {},
     "output_type": "execute_result"
    }
   ],
   "source": [
    "gcv = GridSearchCV(lr, parameters, n_jobs=-1, cv=skf, verbose=1, scoring='roc_auc')\n",
    "gcv.fit(X, y)\n",
    "gcv.best_estimator_, gcv.best_score_, gcv.cv_results_"
   ]
  },
  {
   "cell_type": "markdown",
   "metadata": {},
   "source": [
    "**Задание 4.** \n",
    "Можно ли считать лучшую модель устойчивой? (модель считаем устойчивой, если стандартное отклонение на валидации меньше 0.5%) Сохраните точность лучшей модели, она вам приходится для следующих заданий"
   ]
  },
  {
   "cell_type": "code",
   "execution_count": 27,
   "metadata": {
    "collapsed": false,
    "scrolled": true
   },
   "outputs": [
    {
     "data": {
      "text/plain": [
       "0.37606428277408033"
      ]
     },
     "execution_count": 27,
     "metadata": {},
     "output_type": "execute_result"
    }
   ],
   "source": [
    "gcv.cv_results_['std_test_score'][np.where(gcv.cv_results_['rank_test_score'] == 1)][0] * 100"
   ]
  },
  {
   "cell_type": "markdown",
   "metadata": {},
   "source": [
    "## Определение влияния признаков"
   ]
  },
  {
   "cell_type": "markdown",
   "metadata": {},
   "source": [
    "**Задание 5.**\n",
    "Определите самый важный признак. Важность признака определяется абсолютным значением его коэффициента. Так же нужно нормализировать все признаки, что бы можно их было корректно сравнить."
   ]
  },
  {
   "cell_type": "code",
   "execution_count": 28,
   "metadata": {
    "collapsed": false
   },
   "outputs": [
    {
     "name": "stdout",
     "output_type": "stream",
     "text": [
      "[LibLinear]"
     ]
    },
    {
     "data": {
      "text/plain": [
       "LogisticRegression(C=0.001, class_weight='balanced', dual=False,\n",
       "          fit_intercept=True, intercept_scaling=1, max_iter=100,\n",
       "          multi_class='ovr', n_jobs=1, penalty='l2', random_state=5,\n",
       "          solver='liblinear', tol=0.0001, verbose=1, warm_start=False)"
      ]
     },
     "execution_count": 28,
     "metadata": {},
     "output_type": "execute_result"
    }
   ],
   "source": [
    "X_scaled = StandardScaler().fit_transform(X)\n",
    "lr = LogisticRegression(random_state=5, class_weight='balanced', C=0.001, verbose=1)\n",
    "lr.fit(X_scaled, y)"
   ]
  },
  {
   "cell_type": "code",
   "execution_count": 29,
   "metadata": {
    "collapsed": false
   },
   "outputs": [
    {
     "data": {
      "text/plain": [
       "[('NumberOfTime30-59DaysPastDueNotWorse', 0.72400431589972181),\n",
       " ('NumberOfTimes90DaysLate', 0.51767291541322857),\n",
       " ('age', -0.41630367876661839),\n",
       " ('NumberOfTime60-89DaysPastDueNotWorse', 0.19473216576813443),\n",
       " ('MonthlyIncome', -0.16286352968630483),\n",
       " ('NumberOfDependents', 0.10132602508139429),\n",
       " ('DebtRatio', -0.024081864811944059)]"
      ]
     },
     "execution_count": 29,
     "metadata": {},
     "output_type": "execute_result"
    }
   ],
   "source": [
    "sorted(list(zip(X.columns.values, lr.coef_[0])), key=lambda tup: abs(tup[1]), reverse=True)"
   ]
  },
  {
   "cell_type": "markdown",
   "metadata": {},
   "source": [
    "**Задание 6.** Посчитайте долю влияния `DebtRatio` на предсказание. (Воспользуйтесь функцией [softmax](https://en.wikipedia.org/wiki/Softmax_function))"
   ]
  },
  {
   "cell_type": "code",
   "execution_count": 30,
   "metadata": {
    "collapsed": false
   },
   "outputs": [
    {
     "data": {
      "text/plain": [
       "0.11420536719928262"
      ]
     },
     "execution_count": 30,
     "metadata": {},
     "output_type": "execute_result"
    }
   ],
   "source": [
    "def softmax(values):\n",
    "    denominator = sum([math.exp(value) for value in values])\n",
    "    return [math.exp(value) / denominator for value in values]\n",
    "\n",
    "dict(list(zip(X.columns.values, softmax(lr.coef_[0]))))['DebtRatio']"
   ]
  },
  {
   "cell_type": "markdown",
   "metadata": {},
   "source": [
    "**Задание 7.** \n",
    "Давайте посмотрим как можно интерпретировать влияние наших признаков. Для этого заного оценим логистическую регрессию в абсолютных величинах. После этого посчитайте во сколько раз увеличатся шансы, что клиент не выплатит кредит, если увеличить возраст на 20 лет при всех остальных равных значениях признаков. (теоретический расчет можно посмотреть [здесь](https://www.unm.edu/~schrader/biostat/bio2/Spr06/lec11.pdf))"
   ]
  },
  {
   "cell_type": "code",
   "execution_count": 32,
   "metadata": {
    "collapsed": false
   },
   "outputs": [
    {
     "name": "stdout",
     "output_type": "stream",
     "text": [
      "0.70\n"
     ]
    }
   ],
   "source": [
    "lr = LogisticRegression(random_state=5, class_weight='balanced', C=0.001)\n",
    "lr.fit(X, y)\n",
    "weights = dict(list(zip(X.columns.values, lr.coef_[0])))\n",
    "print(\"%.2f\" % math.exp(weights['age'] * 20))"
   ]
  },
  {
   "cell_type": "markdown",
   "metadata": {},
   "source": [
    "# Случайный лес"
   ]
  },
  {
   "cell_type": "code",
   "execution_count": 33,
   "metadata": {
    "collapsed": false
   },
   "outputs": [],
   "source": [
    "from sklearn.ensemble import RandomForestClassifier\n",
    "from sklearn.ensemble.forest import RandomForestRegressor\n",
    "\n",
    "# Инициализируем случайный лес с 100 деревьями и сбалансированными классами \n",
    "rf = RandomForestClassifier(n_estimators=100, n_jobs=-1, random_state=42, oob_score=True, class_weight='balanced')\n",
    "\n",
    "## Будем искать лучшие параметры среди следующего набора\n",
    "parameters = {'max_features': [1, 2, 4], 'min_samples_leaf': [3, 5, 7, 9], 'max_depth': [5,10,15]}\n",
    "\n",
    "## Делаем опять же стрэтифайд k-fold валидацию. Инициализация которой должна у вас продолжать храниться в skf"
   ]
  },
  {
   "cell_type": "markdown",
   "metadata": {},
   "source": [
    "**Задание 8.** На сколько точность лучшей модели случайного леса выше точности логистической регрессии на валидации?"
   ]
  },
  {
   "cell_type": "code",
   "execution_count": 34,
   "metadata": {
    "collapsed": false,
    "scrolled": false
   },
   "outputs": [
    {
     "name": "stdout",
     "output_type": "stream",
     "text": [
      "Fitting 5 folds for each of 36 candidates, totalling 180 fits\n"
     ]
    },
    {
     "name": "stderr",
     "output_type": "stream",
     "text": [
      "[Parallel(n_jobs=-1)]: Done  42 tasks      | elapsed:   50.1s\n",
      "[Parallel(n_jobs=-1)]: Done 180 out of 180 | elapsed:  5.4min finished\n"
     ]
    },
    {
     "data": {
      "text/plain": [
       "(RandomForestClassifier(bootstrap=True, class_weight='balanced',\n",
       "             criterion='gini', max_depth=10, max_features=2,\n",
       "             max_leaf_nodes=None, min_impurity_split=1e-07,\n",
       "             min_samples_leaf=9, min_samples_split=2,\n",
       "             min_weight_fraction_leaf=0.0, n_estimators=100, n_jobs=-1,\n",
       "             oob_score=True, random_state=42, verbose=0, warm_start=False),\n",
       " 0.83563144821123403)"
      ]
     },
     "execution_count": 34,
     "metadata": {},
     "output_type": "execute_result"
    }
   ],
   "source": [
    "scorer = make_scorer(roc_auc_score)\n",
    "gcv = GridSearchCV(rf, parameters, n_jobs=-1, cv=skf, verbose=1, scoring='roc_auc')\n",
    "gcv.fit(X, y)\n",
    "gcv.best_estimator_, gcv.best_score_"
   ]
  },
  {
   "cell_type": "markdown",
   "metadata": {},
   "source": [
    "**Задание 9.** Определите какой признак имеет самое слабое влияние."
   ]
  },
  {
   "cell_type": "code",
   "execution_count": 35,
   "metadata": {
    "collapsed": false
   },
   "outputs": [],
   "source": [
    "forest = RandomForestRegressor(n_estimators=100, random_state=42, max_depth=10, max_features=1, min_samples_leaf=7)\n",
    "forest.fit(X, y)\n",
    "\n",
    "importances = forest.feature_importances_"
   ]
  },
  {
   "cell_type": "code",
   "execution_count": 36,
   "metadata": {
    "collapsed": false
   },
   "outputs": [
    {
     "data": {
      "text/plain": [
       "[('NumberOfDependents', 0.018061444122052205),\n",
       " ('MonthlyIncome', 0.05823781026428912),\n",
       " ('DebtRatio', 0.06757130912755548),\n",
       " ('age', 0.0902017650622341),\n",
       " ('NumberOfTime60-89DaysPastDueNotWorse', 0.18582865358074105),\n",
       " ('NumberOfTime30-59DaysPastDueNotWorse', 0.2673231814130604),\n",
       " ('NumberOfTimes90DaysLate', 0.31277583643006773)]"
      ]
     },
     "execution_count": 36,
     "metadata": {},
     "output_type": "execute_result"
    }
   ],
   "source": [
    "sorted(list(zip(X.columns.values, importances.tolist())), key=lambda tup: tup[1])"
   ]
  },
  {
   "cell_type": "markdown",
   "metadata": {},
   "source": [
    "** Задание 10.** Какое наиболее существенное примущество логистической регрессии перед случайным лесом для нашей бизнес-задачи?\n",
    "\n",
    "- меньше тратится времени для тренировки модели;\n",
    "- меньше параметров для перебора;\n",
    "- **интепретируемость признаков;**\n",
    "- линейные свойства алгоритма."
   ]
  },
  {
   "cell_type": "markdown",
   "metadata": {},
   "source": [
    "# Бэггинг"
   ]
  },
  {
   "cell_type": "code",
   "execution_count": 14,
   "metadata": {
    "collapsed": true
   },
   "outputs": [],
   "source": [
    "from sklearn.ensemble import BaggingClassifier\n",
    "from sklearn.model_selection import RandomizedSearchCV\n",
    "parameters = {\n",
    "    'max_features': [2, 3, 4],\n",
    "    'max_samples': [0.5, 0.7, 0.9],\n",
    "    \"base_estimator__C\": [0.0001, 0.001, 0.01, 1, 10, 100]\n",
    "}"
   ]
  },
  {
   "cell_type": "markdown",
   "metadata": {},
   "source": [
    "**Задание 11.** Следующая задача обучить бэггинг классификатор (random_state=42). В качестве базовых классификаторов возьмите 100 логистических регрессий и на этот раз используйте не GridSearchCV, а RandomizedSearchCV. Так как перебирать все 54 варианта комбинаций долго, то поставьте максимальное число итераций 20 для RandomizedSearchCV. Так же не забудьте передать параметр валидации cv и `random_state=1`. Какая лучшая точность получилась?"
   ]
  },
  {
   "cell_type": "code",
   "execution_count": 22,
   "metadata": {
    "collapsed": false
   },
   "outputs": [
    {
     "name": "stdout",
     "output_type": "stream",
     "text": [
      "Fitting 5 folds for each of 20 candidates, totalling 100 fits\n",
      "[CV] max_samples=0.5, max_features=3, base_estimator__C=1 ............\n",
      "[CV] max_samples=0.5, max_features=3, base_estimator__C=1 ............\n",
      "[CV] max_samples=0.5, max_features=3, base_estimator__C=1 ............\n",
      "[CV] max_samples=0.5, max_features=3, base_estimator__C=1 ............\n",
      "[CV]  max_samples=0.5, max_features=3, base_estimator__C=1, total=  17.2s\n",
      "[CV] max_samples=0.5, max_features=3, base_estimator__C=1 ............\n",
      "[CV]  max_samples=0.5, max_features=3, base_estimator__C=1, total=  17.3s\n",
      "[CV] max_samples=0.9, max_features=2, base_estimator__C=0.0001 .......\n",
      "[CV]  max_samples=0.5, max_features=3, base_estimator__C=1, total=  17.7s\n",
      "[CV] max_samples=0.9, max_features=2, base_estimator__C=0.0001 .......\n",
      "[CV]  max_samples=0.5, max_features=3, base_estimator__C=1, total=  18.7s\n",
      "[CV] max_samples=0.9, max_features=2, base_estimator__C=0.0001 .......\n",
      "[CV]  max_samples=0.9, max_features=2, base_estimator__C=0.0001, total=   9.8s\n",
      "[CV] max_samples=0.9, max_features=2, base_estimator__C=0.0001 .......\n",
      "[CV]  max_samples=0.9, max_features=2, base_estimator__C=0.0001, total=  10.0s\n",
      "[CV] max_samples=0.9, max_features=2, base_estimator__C=0.0001 .......\n",
      "[CV]  max_samples=0.9, max_features=2, base_estimator__C=0.0001, total=   9.6s\n",
      "[CV] max_samples=0.9, max_features=4, base_estimator__C=10 ...........\n",
      "[CV]  max_samples=0.5, max_features=3, base_estimator__C=1, total=  17.4s\n",
      "[CV] max_samples=0.9, max_features=4, base_estimator__C=10 ...........\n",
      "[CV]  max_samples=0.9, max_features=2, base_estimator__C=0.0001, total=  11.1s\n",
      "[CV] max_samples=0.9, max_features=4, base_estimator__C=10 ...........\n",
      "[CV]  max_samples=0.9, max_features=2, base_estimator__C=0.0001, total=  11.4s\n",
      "[CV] max_samples=0.9, max_features=4, base_estimator__C=10 ...........\n",
      "[CV]  max_samples=0.9, max_features=4, base_estimator__C=10, total=  25.5s\n",
      "[CV] max_samples=0.9, max_features=4, base_estimator__C=10 ...........\n",
      "[CV]  max_samples=0.9, max_features=4, base_estimator__C=10, total=  27.3s\n",
      "[CV] max_samples=0.9, max_features=3, base_estimator__C=1 ............\n",
      "[CV]  max_samples=0.9, max_features=4, base_estimator__C=10, total=  26.3s\n",
      "[CV] max_samples=0.9, max_features=3, base_estimator__C=1 ............\n",
      "[CV]  max_samples=0.9, max_features=4, base_estimator__C=10, total=  28.5s\n",
      "[CV] max_samples=0.9, max_features=3, base_estimator__C=1 ............\n",
      "[CV]  max_samples=0.9, max_features=3, base_estimator__C=1, total=  18.0s\n",
      "[CV] max_samples=0.9, max_features=3, base_estimator__C=1 ............\n",
      "[CV]  max_samples=0.9, max_features=4, base_estimator__C=10, total=  26.5s\n",
      "[CV] max_samples=0.9, max_features=3, base_estimator__C=1 ............\n",
      "[CV]  max_samples=0.9, max_features=3, base_estimator__C=1, total=  19.0s\n",
      "[CV] max_samples=0.7, max_features=3, base_estimator__C=1 ............\n",
      "[CV]  max_samples=0.9, max_features=3, base_estimator__C=1, total=  18.2s\n",
      "[CV] max_samples=0.7, max_features=3, base_estimator__C=1 ............\n",
      "[CV]  max_samples=0.9, max_features=3, base_estimator__C=1, total=  19.8s\n",
      "[CV] max_samples=0.7, max_features=3, base_estimator__C=1 ............\n",
      "[CV]  max_samples=0.9, max_features=3, base_estimator__C=1, total=  19.4s\n",
      "[CV] max_samples=0.7, max_features=3, base_estimator__C=1 ............\n",
      "[CV]  max_samples=0.7, max_features=3, base_estimator__C=1, total=  19.3s\n",
      "[CV] max_samples=0.7, max_features=3, base_estimator__C=1 ............\n",
      "[CV]  max_samples=0.7, max_features=3, base_estimator__C=1, total=  19.6s\n",
      "[CV] max_samples=0.9, max_features=2, base_estimator__C=100 ..........\n",
      "[CV]  max_samples=0.9, max_features=2, base_estimator__C=100, total=  13.1s\n",
      "[CV]  max_samples=0.7, max_features=3, base_estimator__C=1, total=  19.0s\n",
      "[CV] max_samples=0.9, max_features=2, base_estimator__C=100 ..........\n",
      "[CV] max_samples=0.9, max_features=2, base_estimator__C=100 ..........\n",
      "[CV]  max_samples=0.7, max_features=3, base_estimator__C=1, total=  19.4s\n",
      "[CV] max_samples=0.9, max_features=2, base_estimator__C=100 ..........\n",
      "[CV]  max_samples=0.7, max_features=3, base_estimator__C=1, total=  18.8s\n",
      "[CV] max_samples=0.9, max_features=2, base_estimator__C=100 ..........\n",
      "[CV]  max_samples=0.9, max_features=2, base_estimator__C=100, total=  12.3s\n",
      "[CV] max_samples=0.7, max_features=4, base_estimator__C=1 ............\n",
      "[CV]  max_samples=0.9, max_features=2, base_estimator__C=100, total=  12.5s\n",
      "[CV] max_samples=0.7, max_features=4, base_estimator__C=1 ............\n",
      "[CV]  max_samples=0.9, max_features=2, base_estimator__C=100, total=  12.6s\n",
      "[CV] max_samples=0.7, max_features=4, base_estimator__C=1 ............\n",
      "[CV]  max_samples=0.9, max_features=2, base_estimator__C=100, total=  12.9s\n",
      "[CV] max_samples=0.7, max_features=4, base_estimator__C=1 ............\n",
      "[CV]  max_samples=0.7, max_features=4, base_estimator__C=1, total=  24.2s\n",
      "[CV] max_samples=0.7, max_features=4, base_estimator__C=1 ............\n",
      "[CV]  max_samples=0.7, max_features=4, base_estimator__C=1, total=  26.1s\n",
      "[CV] max_samples=0.7, max_features=3, base_estimator__C=10 ...........\n",
      "[CV]  max_samples=0.7, max_features=4, base_estimator__C=1, total=  27.3s\n",
      "[CV] max_samples=0.7, max_features=3, base_estimator__C=10 ...........\n"
     ]
    },
    {
     "name": "stderr",
     "output_type": "stream",
     "text": [
      "[Parallel(n_jobs=-1)]: Done  33 tasks      | elapsed:  2.7min\n"
     ]
    },
    {
     "name": "stdout",
     "output_type": "stream",
     "text": [
      "[CV]  max_samples=0.7, max_features=4, base_estimator__C=1, total=  26.9s\n",
      "[CV] max_samples=0.7, max_features=3, base_estimator__C=10 ...........\n",
      "[CV]  max_samples=0.7, max_features=3, base_estimator__C=10, total=  21.1s\n",
      "[CV] max_samples=0.7, max_features=3, base_estimator__C=10 ...........\n",
      "[CV]  max_samples=0.7, max_features=3, base_estimator__C=10, total=  21.3s\n",
      "[CV] max_samples=0.7, max_features=3, base_estimator__C=10 ...........\n",
      "[CV]  max_samples=0.7, max_features=3, base_estimator__C=10, total=  20.6s\n",
      "[CV] max_samples=0.7, max_features=2, base_estimator__C=100 ..........\n",
      "[CV]  max_samples=0.7, max_features=4, base_estimator__C=1, total=  28.3s\n",
      "[CV] max_samples=0.7, max_features=2, base_estimator__C=100 ..........\n",
      "[CV]  max_samples=0.7, max_features=2, base_estimator__C=100, total=  14.5s\n",
      "[CV] max_samples=0.7, max_features=2, base_estimator__C=100 ..........\n",
      "[CV]  max_samples=0.7, max_features=2, base_estimator__C=100, total=  14.3s\n",
      "[CV] max_samples=0.7, max_features=2, base_estimator__C=100 ..........\n",
      "[CV]  max_samples=0.7, max_features=3, base_estimator__C=10, total=  21.6s\n",
      "[CV] max_samples=0.7, max_features=2, base_estimator__C=100 ..........\n",
      "[CV]  max_samples=0.7, max_features=3, base_estimator__C=10, total=  21.0s\n",
      "[CV] max_samples=0.7, max_features=2, base_estimator__C=0.01 .........\n",
      "[CV]  max_samples=0.7, max_features=2, base_estimator__C=100, total=  12.6s\n",
      "[CV] max_samples=0.7, max_features=2, base_estimator__C=0.01 .........\n",
      "[CV]  max_samples=0.7, max_features=2, base_estimator__C=100, total=  13.0s\n",
      "[CV] max_samples=0.7, max_features=2, base_estimator__C=0.01 .........\n",
      "[CV]  max_samples=0.7, max_features=2, base_estimator__C=0.01, total=  12.5s\n",
      "[CV] max_samples=0.7, max_features=2, base_estimator__C=0.01 .........\n",
      "[CV]  max_samples=0.7, max_features=2, base_estimator__C=100, total=  13.0s\n",
      "[CV] max_samples=0.7, max_features=2, base_estimator__C=0.01 .........\n",
      "[CV]  max_samples=0.7, max_features=2, base_estimator__C=0.01, total=  12.8s\n",
      "[CV] max_samples=0.7, max_features=2, base_estimator__C=0.001 ........\n",
      "[CV]  max_samples=0.7, max_features=2, base_estimator__C=0.01, total=  12.2s\n",
      "[CV] max_samples=0.7, max_features=2, base_estimator__C=0.001 ........\n",
      "[CV]  max_samples=0.7, max_features=2, base_estimator__C=0.01, total=  12.6s\n",
      "[CV]  max_samples=0.7, max_features=2, base_estimator__C=0.01, total=  12.7s\n",
      "[CV] max_samples=0.7, max_features=2, base_estimator__C=0.001 ........\n",
      "[CV] max_samples=0.7, max_features=2, base_estimator__C=0.001 ........\n",
      "[CV]  max_samples=0.7, max_features=2, base_estimator__C=0.001, total=  12.7s\n",
      "[CV] max_samples=0.7, max_features=2, base_estimator__C=0.001 ........\n",
      "[CV]  max_samples=0.7, max_features=2, base_estimator__C=0.001, total=  13.4s\n",
      "[CV] max_samples=0.5, max_features=3, base_estimator__C=0.0001 .......\n",
      "[CV]  max_samples=0.7, max_features=2, base_estimator__C=0.001, total=  12.8s\n",
      "[CV] max_samples=0.5, max_features=3, base_estimator__C=0.0001 .......\n",
      "[CV]  max_samples=0.7, max_features=2, base_estimator__C=0.001, total=  13.7s\n",
      "[CV] max_samples=0.5, max_features=3, base_estimator__C=0.0001 .......\n",
      "[CV]  max_samples=0.7, max_features=2, base_estimator__C=0.001, total=  15.8s\n",
      "[CV] max_samples=0.5, max_features=3, base_estimator__C=0.0001 .......\n",
      "[CV]  max_samples=0.5, max_features=3, base_estimator__C=0.0001, total=  17.7s\n",
      "[CV] max_samples=0.5, max_features=3, base_estimator__C=0.0001 .......\n",
      "[CV]  max_samples=0.5, max_features=3, base_estimator__C=0.0001, total=  16.6s\n",
      "[CV] max_samples=0.5, max_features=3, base_estimator__C=0.01 .........\n",
      "[CV]  max_samples=0.5, max_features=3, base_estimator__C=0.0001, total=  17.7s\n",
      "[CV] max_samples=0.5, max_features=3, base_estimator__C=0.01 .........\n",
      "[CV]  max_samples=0.5, max_features=3, base_estimator__C=0.0001, total=  14.2s\n",
      "[CV] max_samples=0.5, max_features=3, base_estimator__C=0.01 .........\n",
      "[CV]  max_samples=0.5, max_features=3, base_estimator__C=0.0001, total=  16.0s\n",
      "[CV] max_samples=0.5, max_features=3, base_estimator__C=0.01 .........\n",
      "[CV]  max_samples=0.5, max_features=3, base_estimator__C=0.01, total=  20.6s\n",
      "[CV] max_samples=0.5, max_features=3, base_estimator__C=0.01 .........\n",
      "[CV]  max_samples=0.5, max_features=3, base_estimator__C=0.01, total=  20.7s\n",
      "[CV] max_samples=0.9, max_features=3, base_estimator__C=100 ..........\n",
      "[CV]  max_samples=0.5, max_features=3, base_estimator__C=0.01, total=  22.0s\n",
      "[CV] max_samples=0.9, max_features=3, base_estimator__C=100 ..........\n",
      "[CV]  max_samples=0.5, max_features=3, base_estimator__C=0.01, total=  22.8s\n",
      "[CV] max_samples=0.9, max_features=3, base_estimator__C=100 ..........\n",
      "[CV]  max_samples=0.5, max_features=3, base_estimator__C=0.01, total=  20.8s\n",
      "[CV]  max_samples=0.9, max_features=3, base_estimator__C=100, total=  20.9s\n",
      "[CV] max_samples=0.9, max_features=3, base_estimator__C=100 ..........\n",
      "[CV] max_samples=0.9, max_features=3, base_estimator__C=100 ..........\n",
      "[CV]  max_samples=0.9, max_features=3, base_estimator__C=100, total=  21.5s\n",
      "[CV] max_samples=0.5, max_features=3, base_estimator__C=10 ...........\n",
      "[CV]  max_samples=0.9, max_features=3, base_estimator__C=100, total=  19.6s\n",
      "[CV] max_samples=0.5, max_features=3, base_estimator__C=10 ...........\n",
      "[CV]  max_samples=0.9, max_features=3, base_estimator__C=100, total=  20.0s\n",
      "[CV] max_samples=0.5, max_features=3, base_estimator__C=10 ...........\n",
      "[CV]  max_samples=0.9, max_features=3, base_estimator__C=100, total=  20.4s\n",
      "[CV] max_samples=0.5, max_features=3, base_estimator__C=10 ...........\n",
      "[CV]  max_samples=0.5, max_features=3, base_estimator__C=10, total=  17.3s\n",
      "[CV] max_samples=0.5, max_features=3, base_estimator__C=10 ...........\n",
      "[CV]  max_samples=0.5, max_features=3, base_estimator__C=10, total=  17.4s\n",
      "[CV] max_samples=0.5, max_features=4, base_estimator__C=10 ...........\n",
      "[CV]  max_samples=0.5, max_features=3, base_estimator__C=10, total=  16.4s\n",
      "[CV] max_samples=0.5, max_features=4, base_estimator__C=10 ...........\n",
      "[CV]  max_samples=0.5, max_features=3, base_estimator__C=10, total=  17.9s\n",
      "[CV] max_samples=0.5, max_features=4, base_estimator__C=10 ...........\n",
      "[CV]  max_samples=0.5, max_features=3, base_estimator__C=10, total=  17.3s\n",
      "[CV] max_samples=0.5, max_features=4, base_estimator__C=10 ...........\n",
      "[CV]  max_samples=0.5, max_features=4, base_estimator__C=10, total=  23.4s\n",
      "[CV] max_samples=0.5, max_features=4, base_estimator__C=10 ...........\n",
      "[CV]  max_samples=0.5, max_features=4, base_estimator__C=10, total=  22.3s\n",
      "[CV] max_samples=0.5, max_features=4, base_estimator__C=0.01 .........\n",
      "[CV]  max_samples=0.5, max_features=4, base_estimator__C=10, total=  21.1s\n",
      "[CV] max_samples=0.5, max_features=4, base_estimator__C=0.01 .........\n",
      "[CV]  max_samples=0.5, max_features=4, base_estimator__C=10, total=  23.2s\n",
      "[CV] max_samples=0.5, max_features=4, base_estimator__C=0.01 .........\n",
      "[CV]  max_samples=0.5, max_features=4, base_estimator__C=10, total=  23.0s\n",
      "[CV] max_samples=0.5, max_features=4, base_estimator__C=0.01 .........\n",
      "[CV]  max_samples=0.5, max_features=4, base_estimator__C=0.01, total=  21.5s\n",
      "[CV] max_samples=0.5, max_features=4, base_estimator__C=0.01 .........\n",
      "[CV]  max_samples=0.5, max_features=4, base_estimator__C=0.01, total=  22.8s\n",
      "[CV] max_samples=0.7, max_features=4, base_estimator__C=100 ..........\n",
      "[CV]  max_samples=0.5, max_features=4, base_estimator__C=0.01, total=  20.3s\n",
      "[CV] max_samples=0.7, max_features=4, base_estimator__C=100 ..........\n",
      "[CV]  max_samples=0.5, max_features=4, base_estimator__C=0.01, total=  22.5s\n",
      "[CV] max_samples=0.7, max_features=4, base_estimator__C=100 ..........\n",
      "[CV]  max_samples=0.5, max_features=4, base_estimator__C=0.01, total=  22.3s\n",
      "[CV] max_samples=0.7, max_features=4, base_estimator__C=100 ..........\n",
      "[CV]  max_samples=0.7, max_features=4, base_estimator__C=100, total=  24.6s\n",
      "[CV] max_samples=0.7, max_features=4, base_estimator__C=100 ..........\n",
      "[CV]  max_samples=0.7, max_features=4, base_estimator__C=100, total=  23.4s\n",
      "[CV] max_samples=0.9, max_features=3, base_estimator__C=10 ...........\n",
      "[CV]  max_samples=0.7, max_features=4, base_estimator__C=100, total=  24.1s\n",
      "[CV] max_samples=0.9, max_features=3, base_estimator__C=10 ...........\n",
      "[CV]  max_samples=0.7, max_features=4, base_estimator__C=100, total=  26.1s\n",
      "[CV] max_samples=0.9, max_features=3, base_estimator__C=10 ...........\n",
      "[CV]  max_samples=0.7, max_features=4, base_estimator__C=100, total=  25.8s\n",
      "[CV] max_samples=0.9, max_features=3, base_estimator__C=10 ...........\n",
      "[CV]  max_samples=0.9, max_features=3, base_estimator__C=10, total=  19.8s\n",
      "[CV] max_samples=0.9, max_features=3, base_estimator__C=10 ...........\n",
      "[CV]  max_samples=0.9, max_features=3, base_estimator__C=10, total=  18.9s\n",
      "[CV] max_samples=0.9, max_features=4, base_estimator__C=1 ............\n",
      "[CV]  max_samples=0.9, max_features=3, base_estimator__C=10, total=  17.7s\n",
      "[CV] max_samples=0.9, max_features=4, base_estimator__C=1 ............\n",
      "[CV]  max_samples=0.9, max_features=3, base_estimator__C=10, total=  18.7s\n",
      "[CV] max_samples=0.9, max_features=4, base_estimator__C=1 ............\n",
      "[CV]  max_samples=0.9, max_features=3, base_estimator__C=10, total=  18.9s\n",
      "[CV] max_samples=0.9, max_features=4, base_estimator__C=1 ............\n",
      "[CV]  max_samples=0.9, max_features=4, base_estimator__C=1, total=  26.8s\n",
      "[CV] max_samples=0.9, max_features=4, base_estimator__C=1 ............\n",
      "[CV]  max_samples=0.9, max_features=4, base_estimator__C=1, total=  26.9s\n",
      "[CV]  max_samples=0.9, max_features=4, base_estimator__C=1, total=  25.3s\n",
      "[CV]  max_samples=0.9, max_features=4, base_estimator__C=1, total=  26.2s\n",
      "[CV]  max_samples=0.9, max_features=4, base_estimator__C=1, total=  16.7s\n"
     ]
    },
    {
     "name": "stderr",
     "output_type": "stream",
     "text": [
      "[Parallel(n_jobs=-1)]: Done 100 out of 100 | elapsed:  8.2min finished\n"
     ]
    },
    {
     "data": {
      "text/plain": [
       "(BaggingClassifier(base_estimator=LogisticRegression(C=0.001, class_weight='balanced', dual=False,\n",
       "           fit_intercept=True, intercept_scaling=1, max_iter=100,\n",
       "           multi_class='ovr', n_jobs=1, penalty='l2', random_state=None,\n",
       "           solver='liblinear', tol=0.0001, verbose=0, warm_start=False),\n",
       "          bootstrap=True, bootstrap_features=False, max_features=2,\n",
       "          max_samples=0.7, n_estimators=100, n_jobs=1, oob_score=False,\n",
       "          random_state=42, verbose=0, warm_start=False), 0.80746778722957357)"
      ]
     },
     "execution_count": 22,
     "metadata": {},
     "output_type": "execute_result"
    }
   ],
   "source": [
    "#X_scaled = StandardScaler().fit_transform(X)\n",
    "\n",
    "lr = LogisticRegression(class_weight= 'balanced')\n",
    "skf = StratifiedKFold(n_splits=5, shuffle=True, random_state=5)\n",
    "bc = BaggingClassifier(lr, n_estimators=100, random_state=42)\n",
    "rscv = RandomizedSearchCV(bc, param_distributions=parameters, n_iter=20, n_jobs=-1, cv=skf, verbose=2, scoring='roc_auc', random_state=1)\n",
    "rscv.fit(X, y)\n",
    "rscv.best_estimator_, rscv.best_score_"
   ]
  },
  {
   "cell_type": "markdown",
   "metadata": {},
   "source": [
    "**Задача 12.** Дайте интерпретацию лучших параметров для бэггинга. Почему именно такие значения оказались лучшими?\n",
    "\n",
    "- для бэггинга важно использовать как можно меньше признаков\n",
    "- бэггинг лучше работает на небольших выборках\n",
    "- **меньше корреляция между одиночными моделями**\n",
    "- чем больше признаков, тем меньше теряется информации"
   ]
  }
 ],
 "metadata": {
  "anaconda-cloud": {},
  "kernelspec": {
   "display_name": "Python 3",
   "language": "python",
   "name": "python3"
  },
  "language_info": {
   "codemirror_mode": {
    "name": "ipython",
    "version": 3
   },
   "file_extension": ".py",
   "mimetype": "text/x-python",
   "name": "python",
   "nbconvert_exporter": "python",
   "pygments_lexer": "ipython3",
   "version": "3.6.0"
  }
 },
 "nbformat": 4,
 "nbformat_minor": 0
}
