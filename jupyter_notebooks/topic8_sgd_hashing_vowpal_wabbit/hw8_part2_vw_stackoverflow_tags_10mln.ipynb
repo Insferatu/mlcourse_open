{
 "cells": [
  {
   "cell_type": "markdown",
   "metadata": {},
   "source": [
    "<center>\n",
    "<img src=\"../../img/ods_stickers.jpg\">\n",
    "## Открытый курс по машинному обучению\n",
    "</center>\n",
    "<center>Автор материала: программист-исследователь Mail.ru Group, старший преподаватель <br>Факультета Компьютерных Наук ВШЭ Юрий Кашницкий"
   ]
  },
  {
   "cell_type": "markdown",
   "metadata": {},
   "source": [
    "# <center> Домашнее задание № 8. Часть 2\n",
    "## <center> Vowpal Wabbit в задаче классификации тегов вопросов на Stackoverflow"
   ]
  },
  {
   "cell_type": "markdown",
   "metadata": {},
   "source": [
    "## План 2 части домашнего задания\n",
    "    2.1. Введение\n",
    "    2.2. Описание данных\n",
    "    2.3. Предобработка данных\n",
    "    2.4. Обучение и проверка моделей\n",
    "    2.5. Заключение"
   ]
  },
  {
   "cell_type": "markdown",
   "metadata": {},
   "source": [
    "### 2.1. Введение\n",
    "\n",
    "В этом задании вы будете делать примерно то же, что я каждую неделю –  в Mail.ru Group: обучать модели на выборке в несколько гигабайт. Задание можно выполнить и на Windows с Python, но я рекомендую поработать под \\*NIX-системой (например, через Docker) и активно использовать язык bash.\n",
    "Немного снобизма (простите, но правда): если вы захотите работать в лучших компаниях мира в области ML, вам все равно понадобится опыт работы с bash под UNIX.\n",
    "\n",
    "[Веб-форма](https://goo.gl/forms/z8zENbMiaEAeB7nG3) для ответов.\n",
    "\n",
    "Для выполнения задания понадобится установленный Vowpal Wabbit (уже есть в докер-контейнере курса, см. инструкцию в README [репозитория](https://github.com/Yorko/mlcourse_open) нашего курса) и примерно 70 Гб дискового пространства. Я тестировал решение не на каком-то суперкомпе, а на Macbook Pro 2015 (8 ядер, 16 Гб памяти), и самая тяжеловесная модель обучалась около 12 минут, так что задание реально выполнить и с простым железом. Но если вы планируете когда-либо арендовать сервера Amazon, можно попробовать это сделать уже сейчас.\n",
    "\n",
    "Материалы в помощь:\n",
    " - интерактивный [тьюториал](https://www.codecademy.com/en/courses/learn-the-command-line/lessons/environment/exercises/bash-profile) CodeAcademy по утилитам командной строки UNIX (примерно на час-полтора)\n",
    " - [статья](https://habrahabr.ru/post/280562/) про то, как арендовать на Amazon машину (еще раз: это не обязательно для выполнения задания, но будет хорошим опытом, если вы это делаете впервые)"
   ]
  },
  {
   "cell_type": "markdown",
   "metadata": {},
   "source": [
    "### 2.2. Описание данных"
   ]
  },
  {
   "cell_type": "markdown",
   "metadata": {},
   "source": [
    "Имеются 10 Гб вопросов со StackOverflow – [скачайте](https://yadi.sk/d/krikdUic3Ggjyf) эту выборку. \n",
    "\n",
    "Формат данных простой:<br>\n",
    "<center>*текст вопроса* (слова через пробел) TAB *теги вопроса* (через пробел)\n",
    "\n",
    "Здесь TAB – это символ табуляции.\n",
    "Пример первой записи в выборке:"
   ]
  },
  {
   "cell_type": "code",
   "execution_count": 2,
   "metadata": {
    "collapsed": false
   },
   "outputs": [
    {
     "name": "stdout",
     "output_type": "stream",
     "text": [
      " is there a way to apply a background color through css at the tr level i can apply it at the td level like this my td background color e8e8e8 background e8e8e8 however the background color doesn t seem to get applied when i attempt to apply the background color at the tr level like this my tr background color e8e8e8 background e8e8e8 is there a css trick to making this work or does css not natively support this for some reason \tcss css3 css-selectors\r\n"
     ]
    }
   ],
   "source": [
    "!head -1 ../../../../datasets/stackoverflow/stackoverflow.10kk.tsv"
   ]
  },
  {
   "cell_type": "markdown",
   "metadata": {},
   "source": [
    "Здесь у нас текст вопроса, затем табуляция и теги вопроса: *css, css3* и *css-selectors*. Всего в выборке таких вопросов 10 миллионов. "
   ]
  },
  {
   "cell_type": "code",
   "execution_count": 3,
   "metadata": {
    "collapsed": false
   },
   "outputs": [
    {
     "name": "stdout",
     "output_type": "stream",
     "text": [
      " 10000000 ../../../../datasets/stackoverflow/stackoverflow.10kk.tsv\n",
      "CPU times: user 5.85 s, sys: 2.15 s, total: 8 s\n",
      "Wall time: 4min 11s\n"
     ]
    }
   ],
   "source": [
    "%%time\n",
    "!wc -l ../../../../datasets/stackoverflow/stackoverflow.10kk.tsv"
   ]
  },
  {
   "cell_type": "markdown",
   "metadata": {},
   "source": [
    "Обратите внимание на то, что такие данные я уже не хочу загружать в оперативную память и, пока можно, буду пользоваться эффективными утилитами UNIX –  head, tail, wc, cat, cut и прочими."
   ]
  },
  {
   "cell_type": "markdown",
   "metadata": {},
   "source": [
    "### 2.3. Предобработка данных"
   ]
  },
  {
   "cell_type": "markdown",
   "metadata": {},
   "source": [
    "Давайте выберем в наших данных все вопросы с тегами *javascript, java, python, ruby, php, c++, c#, go, scala* и  *swift* и подготовим обучающую выборку в формате Vowpal Wabbit. Будем решать задачу 10-классовой классификации вопросов по перечисленным тегам.\n",
    "\n",
    "Вообще, как мы видим, у каждого вопроса может быть несколько тегов, но мы упростим себе задачу и будем у каждого вопроса выбирать один из перечисленных тегов либо игнорировать вопрос, если таковых тегов нет. \n",
    "Но вообще VW поддерживает multilabel classification (аргумент  --multilabel_oaa).\n",
    "<br>\n",
    "<br>\n",
    "Реализуйте в виде отдельного файла `preprocess.py` код для подготовки данных. Он должен отобрать строки, в которых есть перечисленные теги, и переписать их в отдельный файл в формат Vowpal Wabbit. Детали:\n",
    " - скрипт должен работать с аргументами командной строки: с путями к файлам на входе и на выходе\n",
    " - строки обрабатываются по одной (можно использовать tqdm для подсчета числа итераций)\n",
    " - если табуляций в строке нет или их больше одной, считаем строку поврежденной и пропускаем\n",
    " - в противном случае смотрим, сколько в строке тегов из списка *javascript, java, python, ruby, php, c++, c#, go, scala* и  *swift*. Если ровно один, то записываем строку в выходной файл в формате VW: `label | text`, где `label` – число от 1 до 10 (1 - *javascript*, ... 10 – *swift*). Пропускаем те строки, где интересующих тегов больше или меньше одного \n",
    " - из текста вопроса надо выкинуть двоеточия и вертикальные палки, если они есть – в VW это спецсимволы"
   ]
  },
  {
   "cell_type": "code",
   "execution_count": 3,
   "metadata": {
    "collapsed": true
   },
   "outputs": [],
   "source": [
    "import os\n",
    "from tqdm import tqdm\n",
    "from time import time\n",
    "import numpy as np\n",
    "from sklearn.metrics import accuracy_score"
   ]
  },
  {
   "cell_type": "markdown",
   "metadata": {
    "collapsed": true
   },
   "source": [
    "Должно получиться вот такое число строк – 4389054. Как видите, 10 Гб у меня обработались примерно за полторы минуты."
   ]
  },
  {
   "cell_type": "code",
   "execution_count": 11,
   "metadata": {
    "collapsed": false
   },
   "outputs": [
    {
     "name": "stdout",
     "output_type": "stream",
     "text": [
      "10000000it [05:28, 30480.21it/s]\n",
      "Lines selected: 4389054\n",
      "Lines corrupted: 15\n"
     ]
    }
   ],
   "source": [
    "!python3 preprocess.py \\\n",
    "    ../../../../datasets/stackoverflow/stackoverflow.10kk.tsv \\\n",
    "    ../../../../datasets/stackoverflow/stackoverflow.vw"
   ]
  },
  {
   "cell_type": "markdown",
   "metadata": {},
   "source": [
    "Поделите выборку на обучающую, проверочную и тестовую части в равной пропорции - по  1463018 в каждый файл. Перемешивать не надо, первые 1463018 строк должны пойти в обучающую часть `stackoverflow_train.vw`, последние 1463018 – в тестовую `stackoverflow_test.vw`, оставшиеся – в проверочную `stackoverflow_valid.vw`. \n",
    "\n",
    "Также сохраните векторы ответов для проверочной и тестовой выборки в отдельные файлы `stackoverflow_valid_labels.txt` и `stackoverflow_test_labels.txt`.\n",
    "\n",
    "Тут вам помогут утилиты `head`, `tail`, `split`, `cat` и `cut`."
   ]
  },
  {
   "cell_type": "code",
   "execution_count": 8,
   "metadata": {
    "collapsed": false
   },
   "outputs": [],
   "source": [
    "#!split -l 1463018 ../../../../datasets/stackoverflow/stackoverflow.vw"
   ]
  },
  {
   "cell_type": "markdown",
   "metadata": {},
   "source": [
    "### 2.4. Обучение и проверка моделей"
   ]
  },
  {
   "cell_type": "markdown",
   "metadata": {},
   "source": [
    "Обучите Vowpal Wabbit на выборке `stackoverflow_train.vw` 9 раз, перебирая параметры passes (1,3,5), ngram (1,2,3).\n",
    "Остальные параметры укажите следующие: bit_precision=28 и seed=17. Также скажите VW, что это 10-классовая задача.\n",
    "\n",
    "Проверяйте долю правильных ответов на выборке `stackoverflow_valid.vw`. Выберите лучшую модель и проверьте качество на выборке `stackoverflow_test.vw`."
   ]
  },
  {
   "cell_type": "code",
   "execution_count": 29,
   "metadata": {
    "collapsed": false
   },
   "outputs": [
    {
     "name": "stdout",
     "output_type": "stream",
     "text": [
      "Accuracy for 1 passes and 1 ngram: 0.915056\n",
      "Accuracy for 1 passes and 2 ngram: 0.931078\n",
      "Accuracy for 1 passes and 3 ngram: 0.928601\n",
      "Accuracy for 3 passes and 1 ngram: 0.914342\n",
      "Accuracy for 3 passes and 2 ngram: 0.927766\n",
      "Accuracy for 3 passes and 3 ngram: 0.926387\n",
      "Accuracy for 5 passes and 1 ngram: 0.913449\n",
      "Accuracy for 5 passes and 2 ngram: 0.929261\n",
      "Accuracy for 5 passes and 3 ngram: 0.926164\n"
     ]
    }
   ],
   "source": [
    "from sklearn.metrics import accuracy_score\n",
    "\n",
    "\n",
    "with open('../../../../datasets/stackoverflow/stackoverflow_valid.vw') as valid_file:\n",
    "    y_valid = [int(line.split('|')[0].strip()) for line in valid_file.readlines()]\n",
    "\n",
    "for passes in [1, 3, 5]:\n",
    "    for ngram in [1, 2, 3]:\n",
    "        !vw -c -d ../../../../datasets/stackoverflow/stackoverflow_train.vw -f model_p-{passes}_n-{ngram}.vw \\\n",
    "            --oaa 10 --passes {passes} --ngram {ngram} --bit_precision 28 --random_seed 17 --quiet\n",
    "        !vw -i model_p-{passes}_n-{ngram}.vw -t -d ../../../../datasets/stackoverflow/stackoverflow_valid.vw \\\n",
    "            -p model_p-{passes}_n-{ngram}_valid_pred.txt --quiet\n",
    "\n",
    "        with open('model_p-%d_n-%d_valid_pred.txt' % (passes, ngram)) as pred_file:\n",
    "            valid_prediction = [int(label) for label in pred_file.readlines()]\n",
    "        print(\"Accuracy for %d passes and %d ngram: %.6f\" % (passes, ngram, accuracy_score(y_valid, valid_prediction)))"
   ]
  },
  {
   "cell_type": "markdown",
   "metadata": {},
   "source": [
    "<font color='red'> Вопрос 1.</font> Какое сочетание параметров дает наибольшую долю правильных ответов на проверочной выборке `stackoverflow_valid.vw`?\n",
    "- Биграммы и 3 прохода по выборке\n",
    "- Триграммы и 5 проходов по выборке\n",
    "- **Биграммы и 1 проход по выборке**\n",
    "- Униграммы и 1 проход по выборке"
   ]
  },
  {
   "cell_type": "markdown",
   "metadata": {},
   "source": [
    "Проверьте лучшую (по доле правильных ответов на валидации) модель на тестовой выборке. "
   ]
  },
  {
   "cell_type": "code",
   "execution_count": 32,
   "metadata": {
    "collapsed": false
   },
   "outputs": [
    {
     "name": "stdout",
     "output_type": "stream",
     "text": [
      "Accuracy for 1 passes and 2 ngram on test dataset: 0.931191\n"
     ]
    }
   ],
   "source": [
    "passes = 1\n",
    "ngram = 2\n",
    "\n",
    "with open('../../../../datasets/stackoverflow/stackoverflow_test.vw') as test_file:\n",
    "    y_test = [int(line.split('|')[0].strip()) for line in test_file.readlines()]\n",
    "\n",
    "!vw -i model_p-{passes}_n-{ngram}.vw -t -d ../../../../datasets/stackoverflow/stackoverflow_test.vw \\\n",
    "    -p model_p-{passes}_n-{ngram}_test_pred.txt --quiet\n",
    "\n",
    "with open('model_p-%d_n-%d_test_pred.txt' % (passes, ngram)) as pred_file:\n",
    "    valid_prediction = [int(label) for label in pred_file.readlines()]\n",
    "print(\"Accuracy for %d passes and %d ngram on test dataset: %.6f\" % (passes, ngram, accuracy_score(y_test, valid_prediction)))"
   ]
  },
  {
   "cell_type": "markdown",
   "metadata": {},
   "source": [
    "<font color='red'> Вопрос 2.</font> Как соотносятся доли правильных ответов лучшей (по доле правильных ответов на валидации) модели на проверочной и на тестовой выборках? (здесь % – это процентный пункт, т.е., скажем, снижение с 50% до 40% – это на 10%, а не 20%).\n",
    "- На тестовой ниже примерно на 2%\n",
    "- На тестовой ниже примерно на 3%\n",
    "- **Результаты почти одинаковы – отличаются меньше чем на 0.5%**"
   ]
  },
  {
   "cell_type": "markdown",
   "metadata": {},
   "source": [
    "Обучите VW с параметрами, подобранными на проверочной выборке, теперь на объединении обучающей и проверочной выборок. Посчитайте долю правильных ответов на тестовой выборке. "
   ]
  },
  {
   "cell_type": "code",
   "execution_count": 34,
   "metadata": {
    "collapsed": false
   },
   "outputs": [
    {
     "name": "stdout",
     "output_type": "stream",
     "text": [
      "Generating 2-grams for all namespaces.\n",
      "final_regressor = model_p-1_n-2_train_and_valid.vw\n",
      "Num weight bits = 28\n",
      "learning rate = 0.5\n",
      "initial_t = 0\n",
      "power_t = 0.5\n",
      "creating cache_file = ../../../../datasets/stackoverflow/stackoverflow_train_and_valid.vw.cache\n",
      "Reading datafile = ../../../../datasets/stackoverflow/stackoverflow_train_and_valid.vw\n",
      "num sources = 1\n",
      "average  since         example        example  current  current  current\n",
      "loss     last          counter         weight    label  predict features\n",
      "0.000000 0.000000            1            1.0        1        1      320\n",
      "0.500000 1.000000            2            2.0        4        1      134\n",
      "0.750000 1.000000            4            4.0        7        1      174\n",
      "0.750000 0.750000            8            8.0        7        1      188\n",
      "0.750000 0.750000           16           16.0        7        7      416\n",
      "0.781250 0.812500           32           32.0        7        2      346\n",
      "0.765625 0.750000           64           64.0        3        3      406\n",
      "0.664062 0.562500          128          128.0        1        7       56\n",
      "0.597656 0.531250          256          256.0        5        3      336\n",
      "0.527344 0.457031          512          512.0        2        2      604\n",
      "0.429688 0.332031         1024         1024.0        3        3      244\n",
      "0.362793 0.295898         2048         2048.0        1        5      164\n",
      "0.298096 0.233398         4096         4096.0        1        1      156\n",
      "0.249878 0.201660         8192         8192.0        2        2      222\n",
      "0.210266 0.170654        16384        16384.0        7        7      502\n",
      "0.175262 0.140259        32768        32768.0        4        5      266\n",
      "0.148163 0.121063        65536        65536.0        5        5      288\n",
      "0.127380 0.106598       131072       131072.0        7        2      508\n",
      "0.109459 0.091537       262144       262144.0        7        7      200\n",
      "0.097469 0.085480       524288       524288.0        1        1     1634\n",
      "0.087224 0.076979      1048576      1048576.0        1        1     1140\n",
      "0.078517 0.069811      2097152      2097152.0        2        2      342\n",
      "\n",
      "finished run\n",
      "number of examples per pass = 2926036\n",
      "passes used = 1\n",
      "weighted example sum = 2926036.000000\n",
      "weighted label sum = 0.000000\n",
      "average loss = 0.075156\n",
      "total feature number = 1161593772\n",
      "Accuracy for 1 passes and 2 ngram on test dataset: 0.935190\n"
     ]
    }
   ],
   "source": [
    "passes = 1\n",
    "ngram = 2\n",
    "\n",
    "with open('../../../../datasets/stackoverflow/stackoverflow_test.vw') as test_file:\n",
    "    y_test = [int(line.split('|')[0].strip()) for line in test_file.readlines()]\n",
    "\n",
    "!vw -c -d ../../../../datasets/stackoverflow/stackoverflow_train_and_valid.vw \\\n",
    "    -f model_p-{passes}_n-{ngram}_train_and_valid.vw \\\n",
    "    --oaa 10 --passes {passes} --ngram {ngram} --bit_precision 28 --random_seed 17\n",
    "!vw -i model_p-{passes}_n-{ngram}_train_and_valid.vw -t -d ../../../../datasets/stackoverflow/stackoverflow_test.vw \\\n",
    "    -p model_p-{passes}_n-{ngram}_t_a_v_test_pred.txt --quiet\n",
    "\n",
    "with open('model_p-%d_n-%d_t_a_v_test_pred.txt' % (passes, ngram)) as pred_file:\n",
    "    valid_prediction = [int(label) for label in pred_file.readlines()]\n",
    "print(\"Accuracy for %d passes and %d ngram on test dataset: %.6f\" % (passes, ngram, accuracy_score(y_test, valid_prediction)))"
   ]
  },
  {
   "cell_type": "markdown",
   "metadata": {},
   "source": [
    "<font color='red'> Вопрос 3.</font> На сколько процентных пунктов повысилась доля правильных ответов модели после обучения на вдвое большей выборке (обучающая `stackoverflow_train.vw` + проверочная `stackoverflow_valid.vw`) по сравнению с моделью, обученной только на `stackoverflow_train.vw`?\n",
    " - 0.1%\n",
    " - **0.4%**\n",
    " - 0.8%\n",
    " - 1.2%"
   ]
  },
  {
   "cell_type": "markdown",
   "metadata": {},
   "source": [
    "### 2.5. Заключение"
   ]
  },
  {
   "cell_type": "markdown",
   "metadata": {},
   "source": [
    "В этом задании мы только познакомились с Vowpal Wabbit. Что еще можно попробовать:\n",
    " - Классификация с несколькими ответами (multilabel classification, аргумент  `multilabel_oaa`) – формат данных тут как раз под такую задачу\n",
    " - Настройка параметров VW с hyperopt, авторы библиотеки утверждают, что качество должно сильно зависеть от параметров изменения шага градиентного спуска (`initial_t` и `power_t`). Также можно потестировать разные функции потерь – обучать логистическую регресиию или линейный SVM\n",
    " - Познакомиться с факторизационными машинами и их реализацией в VW (аргумент `lrq`)"
   ]
  }
 ],
 "metadata": {
  "kernelspec": {
   "display_name": "Python 3",
   "language": "python",
   "name": "python3"
  },
  "language_info": {
   "codemirror_mode": {
    "name": "ipython",
    "version": 3
   },
   "file_extension": ".py",
   "mimetype": "text/x-python",
   "name": "python",
   "nbconvert_exporter": "python",
   "pygments_lexer": "ipython3",
   "version": "3.6.0"
  }
 },
 "nbformat": 4,
 "nbformat_minor": 2
}
